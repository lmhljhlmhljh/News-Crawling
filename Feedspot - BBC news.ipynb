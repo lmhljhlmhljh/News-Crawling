{
 "cells": [
  {
   "cell_type": "code",
   "execution_count": 5,
   "metadata": {},
   "outputs": [],
   "source": [
    "# For the Crawling(BS)\n",
    "from urllib.request import urlopen\n",
    "from bs4 import BeautifulSoup\n",
    "import requests\n",
    "import pandas as pd\n",
    "import re\n",
    "import csv\n",
    "import nltk"
   ]
  },
  {
   "cell_type": "code",
   "execution_count": null,
   "metadata": {},
   "outputs": [],
   "source": [
    "with open('newspaper.csv', 'w') as f:\n",
    "    writer = csv.writer(f)\n",
    "    writer.writerow(['title', 'content', 'date', 'section', 'company', 'url'])\n",
    "\n",
    "    for b in range(49290000,49300000) :\n",
    "        \n",
    "        try :\n",
    "            \n",
    "            a = \"https://www.bbc.com/news/business-\"+str(b)\n",
    "            html = urlopen(a)\n",
    "            soup = BeautifulSoup(html, \"html.parser\")\n",
    "            \n",
    "            #Topic\n",
    "            soup_title = soup.find('h1',class_='story-body__h1')\n",
    "            title = soup_title.get_text()\n",
    "    \n",
    "            #Content\n",
    "            c = soup.find('div', class_ = 'story-body__inner')\n",
    "            b = c.find_all('p')\n",
    "\n",
    "            list_ = []\n",
    "            for i in b :\n",
    "                apple = i.get_text()\n",
    "                list_.append(apple) \n",
    "            content = ' '.join(list_)\n",
    "    \n",
    "            #Date\n",
    "            date = 'Unknown'\n",
    "    \n",
    "            #Section\n",
    "            section ='1'\n",
    "    \n",
    "            #신문사\n",
    "            company = 'BBC'\n",
    "        \n",
    "            #url\n",
    "            url = a\n",
    "            writer.writerow([title, content, date, section, company, url])                     \n",
    "        \n",
    "        except :\n",
    "            pass"
   ]
  }
 ],
 "metadata": {
  "kernelspec": {
   "display_name": "Python 3",
   "language": "python",
   "name": "python3"
  },
  "language_info": {
   "codemirror_mode": {
    "name": "ipython",
    "version": 3
   },
   "file_extension": ".py",
   "mimetype": "text/x-python",
   "name": "python",
   "nbconvert_exporter": "python",
   "pygments_lexer": "ipython3",
   "version": "3.7.1"
  }
 },
 "nbformat": 4,
 "nbformat_minor": 2
}
