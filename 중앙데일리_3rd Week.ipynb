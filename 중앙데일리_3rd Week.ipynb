{
 "cells": [
  {
   "cell_type": "code",
   "execution_count": 1,
   "metadata": {},
   "outputs": [],
   "source": [
    "# Import module\n",
    "from bs4 import BeautifulSoup\n",
    "import csv\n",
    "import time\n",
    "import codecs\n",
    "import pandas as pd\n",
    "import nltk, re\n",
    "from urllib.request import urlopen"
   ]
  },
  {
   "cell_type": "code",
   "execution_count": 3,
   "metadata": {},
   "outputs": [],
   "source": [
    "#json file 가져오기\n",
    "import json\n",
    "with open('KHerald_world.json') as json_file:\n",
    "    KHerald_world.json = json.load(json_file)"
   ]
  },
  {
   "cell_type": "code",
   "execution_count": 6,
   "metadata": {},
   "outputs": [],
   "source": [
    "JD_sports_domestic = []"
   ]
  },
  {
   "cell_type": "code",
   "execution_count": 7,
   "metadata": {},
   "outputs": [
    {
     "name": "stdout",
     "output_type": "stream",
     "text": [
      "time :193.5132508277893"
     ]
    }
   ],
   "source": [
    "# 2. URL 가져오기 by using Beautifulsoup\n",
    "start_num = 1\n",
    "final_num = 794\n",
    "start = time.time() \n",
    "\n",
    "for num in range(start_num, final_num) :\n",
    "    html = urlopen('http://koreajoongangdaily.joins.com/news/list/List.aspx?gCat=070101&pgi={}'.format(num))\n",
    "    soup = BeautifulSoup(html, 'html.parser')\n",
    "    url_soup = soup.findAll('a',class_='title_cr')\n",
    "    url_result = re.findall('href\\=\\\"(\\/news.*?[0-9]{7})\\\"',str(url_soup))\n",
    "    JD_sports_domestic.extend(url_result)\n",
    "    msg = '\\r{}번 성공'.format(num)\n",
    "    print(msg, end='')\n",
    "    continue\n",
    "    \n",
    "duration = \"\\rtime :{}\".format(time.time() - start)\n",
    "print(duration, end='')"
   ]
  },
  {
   "cell_type": "code",
   "execution_count": 9,
   "metadata": {},
   "outputs": [],
   "source": [
    "# saving html files\n",
    "import json\n",
    "with open('JD_sports_domestic.json', 'w') as f:\n",
    "    json.dump(JD_sports_domestic, f)\n",
    "f.close()"
   ]
  },
  {
   "cell_type": "code",
   "execution_count": 11,
   "metadata": {},
   "outputs": [
    {
     "data": {
      "text/plain": [
       "7930"
      ]
     },
     "execution_count": 11,
     "metadata": {},
     "output_type": "execute_result"
    }
   ],
   "source": [
    "len(JD_sports_domestic)"
   ]
  },
  {
   "cell_type": "code",
   "execution_count": 13,
   "metadata": {},
   "outputs": [
    {
     "name": "stdout",
     "output_type": "stream",
     "text": [
      "7930번 성공"
     ]
    }
   ],
   "source": [
    "start_num = 1\n",
    "final_num = len(JD_sports_domestic)\n",
    "num = start_num\n",
    "\n",
    "with open('JD_sports_domestic.csv', 'a', encoding = 'utf-8', newline= '') as f:\n",
    "    writer = csv.writer(f)\n",
    "    \n",
    "    for saved_html in JD_sports_domestic[start_num:final_num] :\n",
    "        url = 'http://koreajoongangdaily.joins.com' + saved_html \n",
    "        html = urlopen(url)\n",
    "        soup = BeautifulSoup(html, \"html.parser\")\n",
    "\n",
    "        #headline\n",
    "        soup_headline = soup.find('h3',{'id':'sTitle_a'})\n",
    "        headline = soup_headline.get_text()\n",
    "\n",
    "        #content\n",
    "        soup_content = soup.find('div',{'id':'articlebody'})\n",
    "        content = soup_content.get_text()\n",
    "        content = re.sub('[-=+,#/\\?:^$.@*\\\"※~&%ㆍ!』\\\\‘|\\(\\)\\[\\]\\<\\>`\\'\\t…》]|\\n',' ',content)\n",
    "        content = re.sub('BY.*?kr','',content)\n",
    "        content = content.strip()\n",
    "        writer.writerow([headline, content])\n",
    "        num += 1\n",
    "        msg = '\\r{}번 성공'.format(num)\n",
    "        print(msg, end='')"
   ]
  },
  {
   "cell_type": "code",
   "execution_count": null,
   "metadata": {},
   "outputs": [],
   "source": []
  }
 ],
 "metadata": {
  "kernelspec": {
   "display_name": "Python 3",
   "language": "python",
   "name": "python3"
  },
  "language_info": {
   "codemirror_mode": {
    "name": "ipython",
    "version": 3
   },
   "file_extension": ".py",
   "mimetype": "text/x-python",
   "name": "python",
   "nbconvert_exporter": "python",
   "pygments_lexer": "ipython3",
   "version": "3.7.1"
  }
 },
 "nbformat": 4,
 "nbformat_minor": 2
}
